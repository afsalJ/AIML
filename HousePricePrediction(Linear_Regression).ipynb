{
  "nbformat": 4,
  "nbformat_minor": 0,
  "metadata": {
    "colab": {
      "provenance": []
    },
    "kernelspec": {
      "name": "python3",
      "display_name": "Python 3"
    },
    "language_info": {
      "name": "python"
    }
  },
  "cells": [
    {
      "cell_type": "code",
      "execution_count": null,
      "metadata": {
        "id": "u_WAGMGcljKa"
      },
      "outputs": [],
      "source": [
        "import pandas as pd\n",
        "import numpy as np\n",
        "import matplotlib.pyplot as plt\n",
        "data=pd.read_csv('House Price India.csv')"
      ]
    },
    {
      "cell_type": "markdown",
      "source": [
        "# ***Getting the info of the data set***"
      ],
      "metadata": {
        "id": "ECkj8kndmNQ4"
      }
    },
    {
      "cell_type": "code",
      "source": [
        "data.info()"
      ],
      "metadata": {
        "colab": {
          "base_uri": "https://localhost:8080/"
        },
        "id": "Gyg9LZAcmFpt",
        "outputId": "19454bda-20ae-4a2f-9642-8eb494e3ddd7"
      },
      "execution_count": null,
      "outputs": [
        {
          "output_type": "stream",
          "name": "stdout",
          "text": [
            "<class 'pandas.core.frame.DataFrame'>\n",
            "RangeIndex: 14620 entries, 0 to 14619\n",
            "Data columns (total 23 columns):\n",
            " #   Column                                 Non-Null Count  Dtype  \n",
            "---  ------                                 --------------  -----  \n",
            " 0   id                                     14620 non-null  int64  \n",
            " 1   Date                                   14620 non-null  int64  \n",
            " 2   number of bedrooms                     14620 non-null  int64  \n",
            " 3   number of bathrooms                    14620 non-null  float64\n",
            " 4   living area                            14620 non-null  int64  \n",
            " 5   lot area                               14620 non-null  int64  \n",
            " 6   number of floors                       14620 non-null  float64\n",
            " 7   waterfront present                     14620 non-null  int64  \n",
            " 8   number of views                        14620 non-null  int64  \n",
            " 9   condition of the house                 14620 non-null  int64  \n",
            " 10  grade of the house                     14620 non-null  int64  \n",
            " 11  Area of the house(excluding basement)  14620 non-null  int64  \n",
            " 12  Area of the basement                   14620 non-null  int64  \n",
            " 13  Built Year                             14620 non-null  int64  \n",
            " 14  Renovation Year                        14620 non-null  int64  \n",
            " 15  Postal Code                            14620 non-null  int64  \n",
            " 16  Lattitude                              14620 non-null  float64\n",
            " 17  Longitude                              14620 non-null  float64\n",
            " 18  living_area_renov                      14620 non-null  int64  \n",
            " 19  lot_area_renov                         14620 non-null  int64  \n",
            " 20  Number of schools nearby               14620 non-null  int64  \n",
            " 21  Distance from the airport              14620 non-null  int64  \n",
            " 22  Price                                  14620 non-null  int64  \n",
            "dtypes: float64(4), int64(19)\n",
            "memory usage: 2.6 MB\n"
          ]
        }
      ]
    },
    {
      "cell_type": "code",
      "source": [
        "data.shape"
      ],
      "metadata": {
        "id": "MPABktatmZkK",
        "colab": {
          "base_uri": "https://localhost:8080/"
        },
        "outputId": "0a34afa1-22a9-4b10-afc0-691ac85fff9c"
      },
      "execution_count": null,
      "outputs": [
        {
          "output_type": "execute_result",
          "data": {
            "text/plain": [
              "(14620, 23)"
            ]
          },
          "metadata": {},
          "execution_count": 435
        }
      ]
    },
    {
      "cell_type": "code",
      "source": [
        "data.corr()"
      ],
      "metadata": {
        "id": "TPn7fXVzmbQd",
        "colab": {
          "base_uri": "https://localhost:8080/",
          "height": 1000
        },
        "outputId": "3dffa0c2-d1cb-4865-996c-c4e180a677f3"
      },
      "execution_count": null,
      "outputs": [
        {
          "output_type": "execute_result",
          "data": {
            "text/plain": [
              "                                             id      Date  number of bedrooms  \\\n",
              "id                                     1.000000  0.045966           -0.329034   \n",
              "Date                                   0.045966  1.000000           -0.015663   \n",
              "number of bedrooms                    -0.329034 -0.015663            1.000000   \n",
              "number of bathrooms                   -0.516909 -0.026485            0.509784   \n",
              "living area                           -0.648127 -0.021958            0.570526   \n",
              "lot area                              -0.100269  0.004392            0.034416   \n",
              "number of floors                      -0.312305 -0.010335            0.177294   \n",
              "waterfront present                    -0.112937  0.012006           -0.006257   \n",
              "number of views                       -0.293004 -0.004782            0.078665   \n",
              "condition of the house                -0.045061 -0.027402            0.026597   \n",
              "grade of the house                    -0.673448 -0.033097            0.352945   \n",
              "Area of the house(excluding basement) -0.565116 -0.015994            0.473599   \n",
              "Area of the basement                  -0.290806 -0.015711            0.300332   \n",
              "Built Year                            -0.068645 -0.005869            0.152954   \n",
              "Renovation Year                       -0.109155 -0.011636            0.016132   \n",
              "Postal Code                            0.294709  0.018243           -0.044156   \n",
              "Lattitude                             -0.479334 -0.023327           -0.013163   \n",
              "Longitude                             -0.070841 -0.018231            0.135712   \n",
              "living_area_renov                     -0.599900 -0.032495            0.389855   \n",
              "lot_area_renov                        -0.089604 -0.000050            0.029400   \n",
              "Number of schools nearby              -0.004821 -0.004071            0.003397   \n",
              "Distance from the airport             -0.004542  0.011457           -0.006157   \n",
              "Price                                 -0.773114 -0.027919            0.308460   \n",
              "\n",
              "                                       number of bathrooms  living area  \\\n",
              "id                                               -0.516909    -0.648127   \n",
              "Date                                             -0.026485    -0.021958   \n",
              "number of bedrooms                                0.509784     0.570526   \n",
              "number of bathrooms                               1.000000     0.753517   \n",
              "living area                                       0.753517     1.000000   \n",
              "lot area                                          0.080806     0.174420   \n",
              "number of floors                                  0.502924     0.354743   \n",
              "waterfront present                                0.060104     0.105837   \n",
              "number of views                                   0.183789     0.287728   \n",
              "condition of the house                           -0.128232    -0.063358   \n",
              "grade of the house                                0.663054     0.761835   \n",
              "Area of the house(excluding basement)             0.684391     0.875793   \n",
              "Area of the basement                              0.287190     0.441491   \n",
              "Built Year                                        0.498127     0.309602   \n",
              "Renovation Year                                   0.049669     0.059400   \n",
              "Postal Code                                      -0.105546    -0.080303   \n",
              "Lattitude                                         0.031156     0.054518   \n",
              "Longitude                                         0.223904     0.240208   \n",
              "living_area_renov                                 0.570530     0.757571   \n",
              "lot_area_renov                                    0.078627     0.180312   \n",
              "Number of schools nearby                          0.002180     0.002370   \n",
              "Distance from the airport                         0.009206     0.002511   \n",
              "Price                                             0.531735     0.712169   \n",
              "\n",
              "                                       lot area  number of floors  \\\n",
              "id                                    -0.100269         -0.312305   \n",
              "Date                                   0.004392         -0.010335   \n",
              "number of bedrooms                     0.034416          0.177294   \n",
              "number of bathrooms                    0.080806          0.502924   \n",
              "living area                            0.174420          0.354743   \n",
              "lot area                               1.000000         -0.004138   \n",
              "number of floors                      -0.004138          1.000000   \n",
              "waterfront present                     0.026282          0.016316   \n",
              "number of views                        0.078308          0.020153   \n",
              "condition of the house                -0.008548         -0.269928   \n",
              "grade of the house                     0.110546          0.463082   \n",
              "Area of the house(excluding basement)  0.183553          0.525643   \n",
              "Area of the basement                   0.019755         -0.242976   \n",
              "Built Year                             0.051615          0.481565   \n",
              "Renovation Year                        0.006848          0.006705   \n",
              "Postal Code                            0.070131         -0.129788   \n",
              "Lattitude                             -0.090983          0.050731   \n",
              "Longitude                              0.221432          0.127550   \n",
              "living_area_renov                      0.149744          0.285093   \n",
              "lot_area_renov                         0.706812         -0.010120   \n",
              "Number of schools nearby              -0.012671         -0.007579   \n",
              "Distance from the airport              0.003291          0.016567   \n",
              "Price                                  0.081992          0.262732   \n",
              "\n",
              "                                       waterfront present  number of views  \\\n",
              "id                                              -0.112937        -0.293004   \n",
              "Date                                             0.012006        -0.004782   \n",
              "number of bedrooms                              -0.006257         0.078665   \n",
              "number of bathrooms                              0.060104         0.183789   \n",
              "living area                                      0.105837         0.287728   \n",
              "lot area                                         0.026282         0.078308   \n",
              "number of floors                                 0.016316         0.020153   \n",
              "waterfront present                               1.000000         0.400206   \n",
              "number of views                                  0.400206         1.000000   \n",
              "condition of the house                           0.018644         0.052533   \n",
              "grade of the house                               0.079831         0.254532   \n",
              "Area of the house(excluding basement)            0.071865         0.162672   \n",
              "Area of the basement                             0.085441         0.293062   \n",
              "Built Year                                      -0.024226        -0.055357   \n",
              "Renovation Year                                  0.085865         0.102944   \n",
              "Postal Code                                      0.038318         0.039268   \n",
              "Lattitude                                       -0.021795        -0.004555   \n",
              "Longitude                                       -0.047791        -0.079706   \n",
              "living_area_renov                                0.085743         0.281452   \n",
              "lot_area_renov                                   0.032055         0.072300   \n",
              "Number of schools nearby                         0.001563         0.008004   \n",
              "Distance from the airport                        0.001448        -0.001657   \n",
              "Price                                            0.263687         0.395973   \n",
              "\n",
              "                                       condition of the house  ...  \\\n",
              "id                                                  -0.045061  ...   \n",
              "Date                                                -0.027402  ...   \n",
              "number of bedrooms                                   0.026597  ...   \n",
              "number of bathrooms                                 -0.128232  ...   \n",
              "living area                                         -0.063358  ...   \n",
              "lot area                                            -0.008548  ...   \n",
              "number of floors                                    -0.269928  ...   \n",
              "waterfront present                                   0.018644  ...   \n",
              "number of views                                      0.052533  ...   \n",
              "condition of the house                               1.000000  ...   \n",
              "grade of the house                                  -0.152530  ...   \n",
              "Area of the house(excluding basement)               -0.167695  ...   \n",
              "Area of the basement                                 0.180609  ...   \n",
              "Built Year                                          -0.381718  ...   \n",
              "Renovation Year                                     -0.062126  ...   \n",
              "Postal Code                                          0.045334  ...   \n",
              "Lattitude                                           -0.002998  ...   \n",
              "Longitude                                           -0.121189  ...   \n",
              "living_area_renov                                   -0.099743  ...   \n",
              "lot_area_renov                                      -0.004748  ...   \n",
              "Number of schools nearby                            -0.006939  ...   \n",
              "Distance from the airport                           -0.002136  ...   \n",
              "Price                                                0.041376  ...   \n",
              "\n",
              "                                       Built Year  Renovation Year  \\\n",
              "id                                      -0.068645        -0.109155   \n",
              "Date                                    -0.005869        -0.011636   \n",
              "number of bedrooms                       0.152954         0.016132   \n",
              "number of bathrooms                      0.498127         0.049669   \n",
              "living area                              0.309602         0.059400   \n",
              "lot area                                 0.051615         0.006848   \n",
              "number of floors                         0.481565         0.006705   \n",
              "waterfront present                      -0.024226         0.085865   \n",
              "number of views                         -0.055357         0.102944   \n",
              "condition of the house                  -0.381718        -0.062126   \n",
              "grade of the house                       0.440358         0.014501   \n",
              "Area of the house(excluding basement)    0.419369         0.025727   \n",
              "Area of the basement                    -0.138843         0.075104   \n",
              "Built Year                               1.000000        -0.233683   \n",
              "Renovation Year                         -0.233683         1.000000   \n",
              "Postal Code                             -0.062349         0.018006   \n",
              "Lattitude                               -0.143153         0.028908   \n",
              "Longitude                                0.414591        -0.080050   \n",
              "living_area_renov                        0.328625        -0.002601   \n",
              "lot_area_renov                           0.072874         0.005869   \n",
              "Number of schools nearby                -0.001631        -0.000826   \n",
              "Distance from the airport               -0.003968         0.005342   \n",
              "Price                                    0.050307         0.133173   \n",
              "\n",
              "                                       Postal Code  Lattitude  Longitude  \\\n",
              "id                                        0.294709  -0.479334  -0.070841   \n",
              "Date                                      0.018243  -0.023327  -0.018231   \n",
              "number of bedrooms                       -0.044156  -0.013163   0.135712   \n",
              "number of bathrooms                      -0.105546   0.031156   0.223904   \n",
              "living area                              -0.080303   0.054518   0.240208   \n",
              "lot area                                  0.070131  -0.090983   0.221432   \n",
              "number of floors                         -0.129788   0.050731   0.127550   \n",
              "waterfront present                        0.038318  -0.021795  -0.047791   \n",
              "number of views                           0.039268  -0.004555  -0.079706   \n",
              "condition of the house                    0.045334  -0.002998  -0.121189   \n",
              "grade of the house                       -0.146342   0.115256   0.203754   \n",
              "Area of the house(excluding basement)    -0.083730  -0.000088   0.345899   \n",
              "Area of the basement                     -0.010542   0.112989  -0.145879   \n",
              "Built Year                               -0.062349  -0.143153   0.414591   \n",
              "Renovation Year                           0.018006   0.028908  -0.080050   \n",
              "Postal Code                               1.000000  -0.310172  -0.099003   \n",
              "Lattitude                                -0.310172   1.000000  -0.131472   \n",
              "Longitude                                -0.099003  -0.131472   1.000000   \n",
              "living_area_renov                        -0.108454   0.046148   0.341221   \n",
              "lot_area_renov                            0.077483  -0.091622   0.258066   \n",
              "Number of schools nearby                  0.010605   0.014949  -0.010163   \n",
              "Distance from the airport                 0.011528   0.007193  -0.003100   \n",
              "Price                                    -0.115908   0.297490   0.024414   \n",
              "\n",
              "                                       living_area_renov  lot_area_renov  \\\n",
              "id                                             -0.599900       -0.089604   \n",
              "Date                                           -0.032495       -0.000050   \n",
              "number of bedrooms                              0.389855        0.029400   \n",
              "number of bathrooms                             0.570530        0.078627   \n",
              "living area                                     0.757571        0.180312   \n",
              "lot area                                        0.149744        0.706812   \n",
              "number of floors                                0.285093       -0.010120   \n",
              "waterfront present                              0.085743        0.032055   \n",
              "number of views                                 0.281452        0.072300   \n",
              "condition of the house                         -0.099743       -0.004748   \n",
              "grade of the house                              0.720019        0.116725   \n",
              "Area of the house(excluding basement)           0.737744        0.194670   \n",
              "Area of the basement                            0.196403        0.011283   \n",
              "Built Year                                      0.328625        0.072874   \n",
              "Renovation Year                                -0.002601        0.005869   \n",
              "Postal Code                                    -0.108454        0.077483   \n",
              "Lattitude                                       0.046148       -0.091622   \n",
              "Longitude                                       0.341221        0.258066   \n",
              "living_area_renov                               1.000000        0.189225   \n",
              "lot_area_renov                                  0.189225        1.000000   \n",
              "Number of schools nearby                       -0.001203       -0.025014   \n",
              "Distance from the airport                      -0.005673       -0.014587   \n",
              "Price                                           0.584924        0.075535   \n",
              "\n",
              "                                       Number of schools nearby  \\\n",
              "id                                                    -0.004821   \n",
              "Date                                                  -0.004071   \n",
              "number of bedrooms                                     0.003397   \n",
              "number of bathrooms                                    0.002180   \n",
              "living area                                            0.002370   \n",
              "lot area                                              -0.012671   \n",
              "number of floors                                      -0.007579   \n",
              "waterfront present                                     0.001563   \n",
              "number of views                                        0.008004   \n",
              "condition of the house                                -0.006939   \n",
              "grade of the house                                     0.000986   \n",
              "Area of the house(excluding basement)                 -0.002894   \n",
              "Area of the basement                                   0.010284   \n",
              "Built Year                                            -0.001631   \n",
              "Renovation Year                                       -0.000826   \n",
              "Postal Code                                            0.010605   \n",
              "Lattitude                                              0.014949   \n",
              "Longitude                                             -0.010163   \n",
              "living_area_renov                                     -0.001203   \n",
              "lot_area_renov                                        -0.025014   \n",
              "Number of schools nearby                               1.000000   \n",
              "Distance from the airport                              0.004035   \n",
              "Price                                                  0.009890   \n",
              "\n",
              "                                       Distance from the airport     Price  \n",
              "id                                                     -0.004542 -0.773114  \n",
              "Date                                                    0.011457 -0.027919  \n",
              "number of bedrooms                                     -0.006157  0.308460  \n",
              "number of bathrooms                                     0.009206  0.531735  \n",
              "living area                                             0.002511  0.712169  \n",
              "lot area                                                0.003291  0.081992  \n",
              "number of floors                                        0.016567  0.262732  \n",
              "waterfront present                                      0.001448  0.263687  \n",
              "number of views                                        -0.001657  0.395973  \n",
              "condition of the house                                 -0.002136  0.041376  \n",
              "grade of the house                                      0.004940  0.671814  \n",
              "Area of the house(excluding basement)                   0.001222  0.615220  \n",
              "Area of the basement                                    0.002926  0.330202  \n",
              "Built Year                                             -0.003968  0.050307  \n",
              "Renovation Year                                         0.005342  0.133173  \n",
              "Postal Code                                             0.011528 -0.115908  \n",
              "Lattitude                                               0.007193  0.297490  \n",
              "Longitude                                              -0.003100  0.024414  \n",
              "living_area_renov                                      -0.005673  0.584924  \n",
              "lot_area_renov                                         -0.014587  0.075535  \n",
              "Number of schools nearby                                0.004035  0.009890  \n",
              "Distance from the airport                               1.000000  0.003804  \n",
              "Price                                                   0.003804  1.000000  \n",
              "\n",
              "[23 rows x 23 columns]"
            ],
            "text/html": [
              "\n",
              "  <div id=\"df-11563309-9c5d-4f6a-b952-5fc59ce68a1e\">\n",
              "    <div class=\"colab-df-container\">\n",
              "      <div>\n",
              "<style scoped>\n",
              "    .dataframe tbody tr th:only-of-type {\n",
              "        vertical-align: middle;\n",
              "    }\n",
              "\n",
              "    .dataframe tbody tr th {\n",
              "        vertical-align: top;\n",
              "    }\n",
              "\n",
              "    .dataframe thead th {\n",
              "        text-align: right;\n",
              "    }\n",
              "</style>\n",
              "<table border=\"1\" class=\"dataframe\">\n",
              "  <thead>\n",
              "    <tr style=\"text-align: right;\">\n",
              "      <th></th>\n",
              "      <th>id</th>\n",
              "      <th>Date</th>\n",
              "      <th>number of bedrooms</th>\n",
              "      <th>number of bathrooms</th>\n",
              "      <th>living area</th>\n",
              "      <th>lot area</th>\n",
              "      <th>number of floors</th>\n",
              "      <th>waterfront present</th>\n",
              "      <th>number of views</th>\n",
              "      <th>condition of the house</th>\n",
              "      <th>...</th>\n",
              "      <th>Built Year</th>\n",
              "      <th>Renovation Year</th>\n",
              "      <th>Postal Code</th>\n",
              "      <th>Lattitude</th>\n",
              "      <th>Longitude</th>\n",
              "      <th>living_area_renov</th>\n",
              "      <th>lot_area_renov</th>\n",
              "      <th>Number of schools nearby</th>\n",
              "      <th>Distance from the airport</th>\n",
              "      <th>Price</th>\n",
              "    </tr>\n",
              "  </thead>\n",
              "  <tbody>\n",
              "    <tr>\n",
              "      <th>id</th>\n",
              "      <td>1.000000</td>\n",
              "      <td>0.045966</td>\n",
              "      <td>-0.329034</td>\n",
              "      <td>-0.516909</td>\n",
              "      <td>-0.648127</td>\n",
              "      <td>-0.100269</td>\n",
              "      <td>-0.312305</td>\n",
              "      <td>-0.112937</td>\n",
              "      <td>-0.293004</td>\n",
              "      <td>-0.045061</td>\n",
              "      <td>...</td>\n",
              "      <td>-0.068645</td>\n",
              "      <td>-0.109155</td>\n",
              "      <td>0.294709</td>\n",
              "      <td>-0.479334</td>\n",
              "      <td>-0.070841</td>\n",
              "      <td>-0.599900</td>\n",
              "      <td>-0.089604</td>\n",
              "      <td>-0.004821</td>\n",
              "      <td>-0.004542</td>\n",
              "      <td>-0.773114</td>\n",
              "    </tr>\n",
              "    <tr>\n",
              "      <th>Date</th>\n",
              "      <td>0.045966</td>\n",
              "      <td>1.000000</td>\n",
              "      <td>-0.015663</td>\n",
              "      <td>-0.026485</td>\n",
              "      <td>-0.021958</td>\n",
              "      <td>0.004392</td>\n",
              "      <td>-0.010335</td>\n",
              "      <td>0.012006</td>\n",
              "      <td>-0.004782</td>\n",
              "      <td>-0.027402</td>\n",
              "      <td>...</td>\n",
              "      <td>-0.005869</td>\n",
              "      <td>-0.011636</td>\n",
              "      <td>0.018243</td>\n",
              "      <td>-0.023327</td>\n",
              "      <td>-0.018231</td>\n",
              "      <td>-0.032495</td>\n",
              "      <td>-0.000050</td>\n",
              "      <td>-0.004071</td>\n",
              "      <td>0.011457</td>\n",
              "      <td>-0.027919</td>\n",
              "    </tr>\n",
              "    <tr>\n",
              "      <th>number of bedrooms</th>\n",
              "      <td>-0.329034</td>\n",
              "      <td>-0.015663</td>\n",
              "      <td>1.000000</td>\n",
              "      <td>0.509784</td>\n",
              "      <td>0.570526</td>\n",
              "      <td>0.034416</td>\n",
              "      <td>0.177294</td>\n",
              "      <td>-0.006257</td>\n",
              "      <td>0.078665</td>\n",
              "      <td>0.026597</td>\n",
              "      <td>...</td>\n",
              "      <td>0.152954</td>\n",
              "      <td>0.016132</td>\n",
              "      <td>-0.044156</td>\n",
              "      <td>-0.013163</td>\n",
              "      <td>0.135712</td>\n",
              "      <td>0.389855</td>\n",
              "      <td>0.029400</td>\n",
              "      <td>0.003397</td>\n",
              "      <td>-0.006157</td>\n",
              "      <td>0.308460</td>\n",
              "    </tr>\n",
              "    <tr>\n",
              "      <th>number of bathrooms</th>\n",
              "      <td>-0.516909</td>\n",
              "      <td>-0.026485</td>\n",
              "      <td>0.509784</td>\n",
              "      <td>1.000000</td>\n",
              "      <td>0.753517</td>\n",
              "      <td>0.080806</td>\n",
              "      <td>0.502924</td>\n",
              "      <td>0.060104</td>\n",
              "      <td>0.183789</td>\n",
              "      <td>-0.128232</td>\n",
              "      <td>...</td>\n",
              "      <td>0.498127</td>\n",
              "      <td>0.049669</td>\n",
              "      <td>-0.105546</td>\n",
              "      <td>0.031156</td>\n",
              "      <td>0.223904</td>\n",
              "      <td>0.570530</td>\n",
              "      <td>0.078627</td>\n",
              "      <td>0.002180</td>\n",
              "      <td>0.009206</td>\n",
              "      <td>0.531735</td>\n",
              "    </tr>\n",
              "    <tr>\n",
              "      <th>living area</th>\n",
              "      <td>-0.648127</td>\n",
              "      <td>-0.021958</td>\n",
              "      <td>0.570526</td>\n",
              "      <td>0.753517</td>\n",
              "      <td>1.000000</td>\n",
              "      <td>0.174420</td>\n",
              "      <td>0.354743</td>\n",
              "      <td>0.105837</td>\n",
              "      <td>0.287728</td>\n",
              "      <td>-0.063358</td>\n",
              "      <td>...</td>\n",
              "      <td>0.309602</td>\n",
              "      <td>0.059400</td>\n",
              "      <td>-0.080303</td>\n",
              "      <td>0.054518</td>\n",
              "      <td>0.240208</td>\n",
              "      <td>0.757571</td>\n",
              "      <td>0.180312</td>\n",
              "      <td>0.002370</td>\n",
              "      <td>0.002511</td>\n",
              "      <td>0.712169</td>\n",
              "    </tr>\n",
              "    <tr>\n",
              "      <th>lot area</th>\n",
              "      <td>-0.100269</td>\n",
              "      <td>0.004392</td>\n",
              "      <td>0.034416</td>\n",
              "      <td>0.080806</td>\n",
              "      <td>0.174420</td>\n",
              "      <td>1.000000</td>\n",
              "      <td>-0.004138</td>\n",
              "      <td>0.026282</td>\n",
              "      <td>0.078308</td>\n",
              "      <td>-0.008548</td>\n",
              "      <td>...</td>\n",
              "      <td>0.051615</td>\n",
              "      <td>0.006848</td>\n",
              "      <td>0.070131</td>\n",
              "      <td>-0.090983</td>\n",
              "      <td>0.221432</td>\n",
              "      <td>0.149744</td>\n",
              "      <td>0.706812</td>\n",
              "      <td>-0.012671</td>\n",
              "      <td>0.003291</td>\n",
              "      <td>0.081992</td>\n",
              "    </tr>\n",
              "    <tr>\n",
              "      <th>number of floors</th>\n",
              "      <td>-0.312305</td>\n",
              "      <td>-0.010335</td>\n",
              "      <td>0.177294</td>\n",
              "      <td>0.502924</td>\n",
              "      <td>0.354743</td>\n",
              "      <td>-0.004138</td>\n",
              "      <td>1.000000</td>\n",
              "      <td>0.016316</td>\n",
              "      <td>0.020153</td>\n",
              "      <td>-0.269928</td>\n",
              "      <td>...</td>\n",
              "      <td>0.481565</td>\n",
              "      <td>0.006705</td>\n",
              "      <td>-0.129788</td>\n",
              "      <td>0.050731</td>\n",
              "      <td>0.127550</td>\n",
              "      <td>0.285093</td>\n",
              "      <td>-0.010120</td>\n",
              "      <td>-0.007579</td>\n",
              "      <td>0.016567</td>\n",
              "      <td>0.262732</td>\n",
              "    </tr>\n",
              "    <tr>\n",
              "      <th>waterfront present</th>\n",
              "      <td>-0.112937</td>\n",
              "      <td>0.012006</td>\n",
              "      <td>-0.006257</td>\n",
              "      <td>0.060104</td>\n",
              "      <td>0.105837</td>\n",
              "      <td>0.026282</td>\n",
              "      <td>0.016316</td>\n",
              "      <td>1.000000</td>\n",
              "      <td>0.400206</td>\n",
              "      <td>0.018644</td>\n",
              "      <td>...</td>\n",
              "      <td>-0.024226</td>\n",
              "      <td>0.085865</td>\n",
              "      <td>0.038318</td>\n",
              "      <td>-0.021795</td>\n",
              "      <td>-0.047791</td>\n",
              "      <td>0.085743</td>\n",
              "      <td>0.032055</td>\n",
              "      <td>0.001563</td>\n",
              "      <td>0.001448</td>\n",
              "      <td>0.263687</td>\n",
              "    </tr>\n",
              "    <tr>\n",
              "      <th>number of views</th>\n",
              "      <td>-0.293004</td>\n",
              "      <td>-0.004782</td>\n",
              "      <td>0.078665</td>\n",
              "      <td>0.183789</td>\n",
              "      <td>0.287728</td>\n",
              "      <td>0.078308</td>\n",
              "      <td>0.020153</td>\n",
              "      <td>0.400206</td>\n",
              "      <td>1.000000</td>\n",
              "      <td>0.052533</td>\n",
              "      <td>...</td>\n",
              "      <td>-0.055357</td>\n",
              "      <td>0.102944</td>\n",
              "      <td>0.039268</td>\n",
              "      <td>-0.004555</td>\n",
              "      <td>-0.079706</td>\n",
              "      <td>0.281452</td>\n",
              "      <td>0.072300</td>\n",
              "      <td>0.008004</td>\n",
              "      <td>-0.001657</td>\n",
              "      <td>0.395973</td>\n",
              "    </tr>\n",
              "    <tr>\n",
              "      <th>condition of the house</th>\n",
              "      <td>-0.045061</td>\n",
              "      <td>-0.027402</td>\n",
              "      <td>0.026597</td>\n",
              "      <td>-0.128232</td>\n",
              "      <td>-0.063358</td>\n",
              "      <td>-0.008548</td>\n",
              "      <td>-0.269928</td>\n",
              "      <td>0.018644</td>\n",
              "      <td>0.052533</td>\n",
              "      <td>1.000000</td>\n",
              "      <td>...</td>\n",
              "      <td>-0.381718</td>\n",
              "      <td>-0.062126</td>\n",
              "      <td>0.045334</td>\n",
              "      <td>-0.002998</td>\n",
              "      <td>-0.121189</td>\n",
              "      <td>-0.099743</td>\n",
              "      <td>-0.004748</td>\n",
              "      <td>-0.006939</td>\n",
              "      <td>-0.002136</td>\n",
              "      <td>0.041376</td>\n",
              "    </tr>\n",
              "    <tr>\n",
              "      <th>grade of the house</th>\n",
              "      <td>-0.673448</td>\n",
              "      <td>-0.033097</td>\n",
              "      <td>0.352945</td>\n",
              "      <td>0.663054</td>\n",
              "      <td>0.761835</td>\n",
              "      <td>0.110546</td>\n",
              "      <td>0.463082</td>\n",
              "      <td>0.079831</td>\n",
              "      <td>0.254532</td>\n",
              "      <td>-0.152530</td>\n",
              "      <td>...</td>\n",
              "      <td>0.440358</td>\n",
              "      <td>0.014501</td>\n",
              "      <td>-0.146342</td>\n",
              "      <td>0.115256</td>\n",
              "      <td>0.203754</td>\n",
              "      <td>0.720019</td>\n",
              "      <td>0.116725</td>\n",
              "      <td>0.000986</td>\n",
              "      <td>0.004940</td>\n",
              "      <td>0.671814</td>\n",
              "    </tr>\n",
              "    <tr>\n",
              "      <th>Area of the house(excluding basement)</th>\n",
              "      <td>-0.565116</td>\n",
              "      <td>-0.015994</td>\n",
              "      <td>0.473599</td>\n",
              "      <td>0.684391</td>\n",
              "      <td>0.875793</td>\n",
              "      <td>0.183553</td>\n",
              "      <td>0.525643</td>\n",
              "      <td>0.071865</td>\n",
              "      <td>0.162672</td>\n",
              "      <td>-0.167695</td>\n",
              "      <td>...</td>\n",
              "      <td>0.419369</td>\n",
              "      <td>0.025727</td>\n",
              "      <td>-0.083730</td>\n",
              "      <td>-0.000088</td>\n",
              "      <td>0.345899</td>\n",
              "      <td>0.737744</td>\n",
              "      <td>0.194670</td>\n",
              "      <td>-0.002894</td>\n",
              "      <td>0.001222</td>\n",
              "      <td>0.615220</td>\n",
              "    </tr>\n",
              "    <tr>\n",
              "      <th>Area of the basement</th>\n",
              "      <td>-0.290806</td>\n",
              "      <td>-0.015711</td>\n",
              "      <td>0.300332</td>\n",
              "      <td>0.287190</td>\n",
              "      <td>0.441491</td>\n",
              "      <td>0.019755</td>\n",
              "      <td>-0.242976</td>\n",
              "      <td>0.085441</td>\n",
              "      <td>0.293062</td>\n",
              "      <td>0.180609</td>\n",
              "      <td>...</td>\n",
              "      <td>-0.138843</td>\n",
              "      <td>0.075104</td>\n",
              "      <td>-0.010542</td>\n",
              "      <td>0.112989</td>\n",
              "      <td>-0.145879</td>\n",
              "      <td>0.196403</td>\n",
              "      <td>0.011283</td>\n",
              "      <td>0.010284</td>\n",
              "      <td>0.002926</td>\n",
              "      <td>0.330202</td>\n",
              "    </tr>\n",
              "    <tr>\n",
              "      <th>Built Year</th>\n",
              "      <td>-0.068645</td>\n",
              "      <td>-0.005869</td>\n",
              "      <td>0.152954</td>\n",
              "      <td>0.498127</td>\n",
              "      <td>0.309602</td>\n",
              "      <td>0.051615</td>\n",
              "      <td>0.481565</td>\n",
              "      <td>-0.024226</td>\n",
              "      <td>-0.055357</td>\n",
              "      <td>-0.381718</td>\n",
              "      <td>...</td>\n",
              "      <td>1.000000</td>\n",
              "      <td>-0.233683</td>\n",
              "      <td>-0.062349</td>\n",
              "      <td>-0.143153</td>\n",
              "      <td>0.414591</td>\n",
              "      <td>0.328625</td>\n",
              "      <td>0.072874</td>\n",
              "      <td>-0.001631</td>\n",
              "      <td>-0.003968</td>\n",
              "      <td>0.050307</td>\n",
              "    </tr>\n",
              "    <tr>\n",
              "      <th>Renovation Year</th>\n",
              "      <td>-0.109155</td>\n",
              "      <td>-0.011636</td>\n",
              "      <td>0.016132</td>\n",
              "      <td>0.049669</td>\n",
              "      <td>0.059400</td>\n",
              "      <td>0.006848</td>\n",
              "      <td>0.006705</td>\n",
              "      <td>0.085865</td>\n",
              "      <td>0.102944</td>\n",
              "      <td>-0.062126</td>\n",
              "      <td>...</td>\n",
              "      <td>-0.233683</td>\n",
              "      <td>1.000000</td>\n",
              "      <td>0.018006</td>\n",
              "      <td>0.028908</td>\n",
              "      <td>-0.080050</td>\n",
              "      <td>-0.002601</td>\n",
              "      <td>0.005869</td>\n",
              "      <td>-0.000826</td>\n",
              "      <td>0.005342</td>\n",
              "      <td>0.133173</td>\n",
              "    </tr>\n",
              "    <tr>\n",
              "      <th>Postal Code</th>\n",
              "      <td>0.294709</td>\n",
              "      <td>0.018243</td>\n",
              "      <td>-0.044156</td>\n",
              "      <td>-0.105546</td>\n",
              "      <td>-0.080303</td>\n",
              "      <td>0.070131</td>\n",
              "      <td>-0.129788</td>\n",
              "      <td>0.038318</td>\n",
              "      <td>0.039268</td>\n",
              "      <td>0.045334</td>\n",
              "      <td>...</td>\n",
              "      <td>-0.062349</td>\n",
              "      <td>0.018006</td>\n",
              "      <td>1.000000</td>\n",
              "      <td>-0.310172</td>\n",
              "      <td>-0.099003</td>\n",
              "      <td>-0.108454</td>\n",
              "      <td>0.077483</td>\n",
              "      <td>0.010605</td>\n",
              "      <td>0.011528</td>\n",
              "      <td>-0.115908</td>\n",
              "    </tr>\n",
              "    <tr>\n",
              "      <th>Lattitude</th>\n",
              "      <td>-0.479334</td>\n",
              "      <td>-0.023327</td>\n",
              "      <td>-0.013163</td>\n",
              "      <td>0.031156</td>\n",
              "      <td>0.054518</td>\n",
              "      <td>-0.090983</td>\n",
              "      <td>0.050731</td>\n",
              "      <td>-0.021795</td>\n",
              "      <td>-0.004555</td>\n",
              "      <td>-0.002998</td>\n",
              "      <td>...</td>\n",
              "      <td>-0.143153</td>\n",
              "      <td>0.028908</td>\n",
              "      <td>-0.310172</td>\n",
              "      <td>1.000000</td>\n",
              "      <td>-0.131472</td>\n",
              "      <td>0.046148</td>\n",
              "      <td>-0.091622</td>\n",
              "      <td>0.014949</td>\n",
              "      <td>0.007193</td>\n",
              "      <td>0.297490</td>\n",
              "    </tr>\n",
              "    <tr>\n",
              "      <th>Longitude</th>\n",
              "      <td>-0.070841</td>\n",
              "      <td>-0.018231</td>\n",
              "      <td>0.135712</td>\n",
              "      <td>0.223904</td>\n",
              "      <td>0.240208</td>\n",
              "      <td>0.221432</td>\n",
              "      <td>0.127550</td>\n",
              "      <td>-0.047791</td>\n",
              "      <td>-0.079706</td>\n",
              "      <td>-0.121189</td>\n",
              "      <td>...</td>\n",
              "      <td>0.414591</td>\n",
              "      <td>-0.080050</td>\n",
              "      <td>-0.099003</td>\n",
              "      <td>-0.131472</td>\n",
              "      <td>1.000000</td>\n",
              "      <td>0.341221</td>\n",
              "      <td>0.258066</td>\n",
              "      <td>-0.010163</td>\n",
              "      <td>-0.003100</td>\n",
              "      <td>0.024414</td>\n",
              "    </tr>\n",
              "    <tr>\n",
              "      <th>living_area_renov</th>\n",
              "      <td>-0.599900</td>\n",
              "      <td>-0.032495</td>\n",
              "      <td>0.389855</td>\n",
              "      <td>0.570530</td>\n",
              "      <td>0.757571</td>\n",
              "      <td>0.149744</td>\n",
              "      <td>0.285093</td>\n",
              "      <td>0.085743</td>\n",
              "      <td>0.281452</td>\n",
              "      <td>-0.099743</td>\n",
              "      <td>...</td>\n",
              "      <td>0.328625</td>\n",
              "      <td>-0.002601</td>\n",
              "      <td>-0.108454</td>\n",
              "      <td>0.046148</td>\n",
              "      <td>0.341221</td>\n",
              "      <td>1.000000</td>\n",
              "      <td>0.189225</td>\n",
              "      <td>-0.001203</td>\n",
              "      <td>-0.005673</td>\n",
              "      <td>0.584924</td>\n",
              "    </tr>\n",
              "    <tr>\n",
              "      <th>lot_area_renov</th>\n",
              "      <td>-0.089604</td>\n",
              "      <td>-0.000050</td>\n",
              "      <td>0.029400</td>\n",
              "      <td>0.078627</td>\n",
              "      <td>0.180312</td>\n",
              "      <td>0.706812</td>\n",
              "      <td>-0.010120</td>\n",
              "      <td>0.032055</td>\n",
              "      <td>0.072300</td>\n",
              "      <td>-0.004748</td>\n",
              "      <td>...</td>\n",
              "      <td>0.072874</td>\n",
              "      <td>0.005869</td>\n",
              "      <td>0.077483</td>\n",
              "      <td>-0.091622</td>\n",
              "      <td>0.258066</td>\n",
              "      <td>0.189225</td>\n",
              "      <td>1.000000</td>\n",
              "      <td>-0.025014</td>\n",
              "      <td>-0.014587</td>\n",
              "      <td>0.075535</td>\n",
              "    </tr>\n",
              "    <tr>\n",
              "      <th>Number of schools nearby</th>\n",
              "      <td>-0.004821</td>\n",
              "      <td>-0.004071</td>\n",
              "      <td>0.003397</td>\n",
              "      <td>0.002180</td>\n",
              "      <td>0.002370</td>\n",
              "      <td>-0.012671</td>\n",
              "      <td>-0.007579</td>\n",
              "      <td>0.001563</td>\n",
              "      <td>0.008004</td>\n",
              "      <td>-0.006939</td>\n",
              "      <td>...</td>\n",
              "      <td>-0.001631</td>\n",
              "      <td>-0.000826</td>\n",
              "      <td>0.010605</td>\n",
              "      <td>0.014949</td>\n",
              "      <td>-0.010163</td>\n",
              "      <td>-0.001203</td>\n",
              "      <td>-0.025014</td>\n",
              "      <td>1.000000</td>\n",
              "      <td>0.004035</td>\n",
              "      <td>0.009890</td>\n",
              "    </tr>\n",
              "    <tr>\n",
              "      <th>Distance from the airport</th>\n",
              "      <td>-0.004542</td>\n",
              "      <td>0.011457</td>\n",
              "      <td>-0.006157</td>\n",
              "      <td>0.009206</td>\n",
              "      <td>0.002511</td>\n",
              "      <td>0.003291</td>\n",
              "      <td>0.016567</td>\n",
              "      <td>0.001448</td>\n",
              "      <td>-0.001657</td>\n",
              "      <td>-0.002136</td>\n",
              "      <td>...</td>\n",
              "      <td>-0.003968</td>\n",
              "      <td>0.005342</td>\n",
              "      <td>0.011528</td>\n",
              "      <td>0.007193</td>\n",
              "      <td>-0.003100</td>\n",
              "      <td>-0.005673</td>\n",
              "      <td>-0.014587</td>\n",
              "      <td>0.004035</td>\n",
              "      <td>1.000000</td>\n",
              "      <td>0.003804</td>\n",
              "    </tr>\n",
              "    <tr>\n",
              "      <th>Price</th>\n",
              "      <td>-0.773114</td>\n",
              "      <td>-0.027919</td>\n",
              "      <td>0.308460</td>\n",
              "      <td>0.531735</td>\n",
              "      <td>0.712169</td>\n",
              "      <td>0.081992</td>\n",
              "      <td>0.262732</td>\n",
              "      <td>0.263687</td>\n",
              "      <td>0.395973</td>\n",
              "      <td>0.041376</td>\n",
              "      <td>...</td>\n",
              "      <td>0.050307</td>\n",
              "      <td>0.133173</td>\n",
              "      <td>-0.115908</td>\n",
              "      <td>0.297490</td>\n",
              "      <td>0.024414</td>\n",
              "      <td>0.584924</td>\n",
              "      <td>0.075535</td>\n",
              "      <td>0.009890</td>\n",
              "      <td>0.003804</td>\n",
              "      <td>1.000000</td>\n",
              "    </tr>\n",
              "  </tbody>\n",
              "</table>\n",
              "<p>23 rows × 23 columns</p>\n",
              "</div>\n",
              "      <button class=\"colab-df-convert\" onclick=\"convertToInteractive('df-11563309-9c5d-4f6a-b952-5fc59ce68a1e')\"\n",
              "              title=\"Convert this dataframe to an interactive table.\"\n",
              "              style=\"display:none;\">\n",
              "        \n",
              "  <svg xmlns=\"http://www.w3.org/2000/svg\" height=\"24px\"viewBox=\"0 0 24 24\"\n",
              "       width=\"24px\">\n",
              "    <path d=\"M0 0h24v24H0V0z\" fill=\"none\"/>\n",
              "    <path d=\"M18.56 5.44l.94 2.06.94-2.06 2.06-.94-2.06-.94-.94-2.06-.94 2.06-2.06.94zm-11 1L8.5 8.5l.94-2.06 2.06-.94-2.06-.94L8.5 2.5l-.94 2.06-2.06.94zm10 10l.94 2.06.94-2.06 2.06-.94-2.06-.94-.94-2.06-.94 2.06-2.06.94z\"/><path d=\"M17.41 7.96l-1.37-1.37c-.4-.4-.92-.59-1.43-.59-.52 0-1.04.2-1.43.59L10.3 9.45l-7.72 7.72c-.78.78-.78 2.05 0 2.83L4 21.41c.39.39.9.59 1.41.59.51 0 1.02-.2 1.41-.59l7.78-7.78 2.81-2.81c.8-.78.8-2.07 0-2.86zM5.41 20L4 18.59l7.72-7.72 1.47 1.35L5.41 20z\"/>\n",
              "  </svg>\n",
              "      </button>\n",
              "      \n",
              "  <style>\n",
              "    .colab-df-container {\n",
              "      display:flex;\n",
              "      flex-wrap:wrap;\n",
              "      gap: 12px;\n",
              "    }\n",
              "\n",
              "    .colab-df-convert {\n",
              "      background-color: #E8F0FE;\n",
              "      border: none;\n",
              "      border-radius: 50%;\n",
              "      cursor: pointer;\n",
              "      display: none;\n",
              "      fill: #1967D2;\n",
              "      height: 32px;\n",
              "      padding: 0 0 0 0;\n",
              "      width: 32px;\n",
              "    }\n",
              "\n",
              "    .colab-df-convert:hover {\n",
              "      background-color: #E2EBFA;\n",
              "      box-shadow: 0px 1px 2px rgba(60, 64, 67, 0.3), 0px 1px 3px 1px rgba(60, 64, 67, 0.15);\n",
              "      fill: #174EA6;\n",
              "    }\n",
              "\n",
              "    [theme=dark] .colab-df-convert {\n",
              "      background-color: #3B4455;\n",
              "      fill: #D2E3FC;\n",
              "    }\n",
              "\n",
              "    [theme=dark] .colab-df-convert:hover {\n",
              "      background-color: #434B5C;\n",
              "      box-shadow: 0px 1px 3px 1px rgba(0, 0, 0, 0.15);\n",
              "      filter: drop-shadow(0px 1px 2px rgba(0, 0, 0, 0.3));\n",
              "      fill: #FFFFFF;\n",
              "    }\n",
              "  </style>\n",
              "\n",
              "      <script>\n",
              "        const buttonEl =\n",
              "          document.querySelector('#df-11563309-9c5d-4f6a-b952-5fc59ce68a1e button.colab-df-convert');\n",
              "        buttonEl.style.display =\n",
              "          google.colab.kernel.accessAllowed ? 'block' : 'none';\n",
              "\n",
              "        async function convertToInteractive(key) {\n",
              "          const element = document.querySelector('#df-11563309-9c5d-4f6a-b952-5fc59ce68a1e');\n",
              "          const dataTable =\n",
              "            await google.colab.kernel.invokeFunction('convertToInteractive',\n",
              "                                                     [key], {});\n",
              "          if (!dataTable) return;\n",
              "\n",
              "          const docLinkHtml = 'Like what you see? Visit the ' +\n",
              "            '<a target=\"_blank\" href=https://colab.research.google.com/notebooks/data_table.ipynb>data table notebook</a>'\n",
              "            + ' to learn more about interactive tables.';\n",
              "          element.innerHTML = '';\n",
              "          dataTable['output_type'] = 'display_data';\n",
              "          await google.colab.output.renderOutput(dataTable, element);\n",
              "          const docLink = document.createElement('div');\n",
              "          docLink.innerHTML = docLinkHtml;\n",
              "          element.appendChild(docLink);\n",
              "        }\n",
              "      </script>\n",
              "    </div>\n",
              "  </div>\n",
              "  "
            ]
          },
          "metadata": {},
          "execution_count": 436
        }
      ]
    },
    {
      "cell_type": "markdown",
      "source": [
        "DATA **PREPROCESSING**"
      ],
      "metadata": {
        "id": "4qkOUNosIcDZ"
      }
    },
    {
      "cell_type": "code",
      "source": [
        "# data.drop(columns=['id','Postal Code','Date','Distance from the airport','Number of schools nearby','lot_area_renov','Renovation Year'],axis=1,inplace=True)\n",
        "# data.drop(columns=['id','Postal Code','Date','Renovation Year'],axis=1,inplace=True)\n",
        "# data.drop(columns=['id','Postal Code','Date'],axis=1,inplace=True)\n",
        "# data.drop(columns=['id','Postal Code','Date','Distance from the airport','Number of schools nearby'],axis=1,inplace=True)\n",
        "# data.drop(columns=['id','Postal Code','Date','Distance from the airport','Number of schools nearby','lot_area_renov'],axis=1,inplace=True)\n",
        "data.drop(columns=['id','Postal Code','Date','Distance from the airport','Number of schools nearby','Renovation Year'],axis=1,inplace=True)"
      ],
      "metadata": {
        "id": "vOkaYzkImfJc"
      },
      "execution_count": null,
      "outputs": []
    },
    {
      "cell_type": "code",
      "source": [
        "data.info()"
      ],
      "metadata": {
        "id": "pT6CPFrsoqNc",
        "colab": {
          "base_uri": "https://localhost:8080/"
        },
        "outputId": "5ee9ddf9-cff2-4298-fe6b-5b4a498f2ea1"
      },
      "execution_count": null,
      "outputs": [
        {
          "output_type": "stream",
          "name": "stdout",
          "text": [
            "<class 'pandas.core.frame.DataFrame'>\n",
            "RangeIndex: 14620 entries, 0 to 14619\n",
            "Data columns (total 17 columns):\n",
            " #   Column                                 Non-Null Count  Dtype  \n",
            "---  ------                                 --------------  -----  \n",
            " 0   number of bedrooms                     14620 non-null  int64  \n",
            " 1   number of bathrooms                    14620 non-null  float64\n",
            " 2   living area                            14620 non-null  int64  \n",
            " 3   lot area                               14620 non-null  int64  \n",
            " 4   number of floors                       14620 non-null  float64\n",
            " 5   waterfront present                     14620 non-null  int64  \n",
            " 6   number of views                        14620 non-null  int64  \n",
            " 7   condition of the house                 14620 non-null  int64  \n",
            " 8   grade of the house                     14620 non-null  int64  \n",
            " 9   Area of the house(excluding basement)  14620 non-null  int64  \n",
            " 10  Area of the basement                   14620 non-null  int64  \n",
            " 11  Built Year                             14620 non-null  int64  \n",
            " 12  Lattitude                              14620 non-null  float64\n",
            " 13  Longitude                              14620 non-null  float64\n",
            " 14  living_area_renov                      14620 non-null  int64  \n",
            " 15  lot_area_renov                         14620 non-null  int64  \n",
            " 16  Price                                  14620 non-null  int64  \n",
            "dtypes: float64(4), int64(13)\n",
            "memory usage: 1.9 MB\n"
          ]
        }
      ]
    },
    {
      "cell_type": "code",
      "source": [
        "data.drop_duplicates(inplace=True)"
      ],
      "metadata": {
        "id": "1dHa2hQJor9Q"
      },
      "execution_count": null,
      "outputs": []
    },
    {
      "cell_type": "code",
      "source": [
        "data.info()"
      ],
      "metadata": {
        "id": "9s-07EyDozrw",
        "colab": {
          "base_uri": "https://localhost:8080/"
        },
        "outputId": "4822849a-2dc0-434b-d102-455e12c03b38"
      },
      "execution_count": null,
      "outputs": [
        {
          "output_type": "stream",
          "name": "stdout",
          "text": [
            "<class 'pandas.core.frame.DataFrame'>\n",
            "Int64Index: 14618 entries, 0 to 14619\n",
            "Data columns (total 17 columns):\n",
            " #   Column                                 Non-Null Count  Dtype  \n",
            "---  ------                                 --------------  -----  \n",
            " 0   number of bedrooms                     14618 non-null  int64  \n",
            " 1   number of bathrooms                    14618 non-null  float64\n",
            " 2   living area                            14618 non-null  int64  \n",
            " 3   lot area                               14618 non-null  int64  \n",
            " 4   number of floors                       14618 non-null  float64\n",
            " 5   waterfront present                     14618 non-null  int64  \n",
            " 6   number of views                        14618 non-null  int64  \n",
            " 7   condition of the house                 14618 non-null  int64  \n",
            " 8   grade of the house                     14618 non-null  int64  \n",
            " 9   Area of the house(excluding basement)  14618 non-null  int64  \n",
            " 10  Area of the basement                   14618 non-null  int64  \n",
            " 11  Built Year                             14618 non-null  int64  \n",
            " 12  Lattitude                              14618 non-null  float64\n",
            " 13  Longitude                              14618 non-null  float64\n",
            " 14  living_area_renov                      14618 non-null  int64  \n",
            " 15  lot_area_renov                         14618 non-null  int64  \n",
            " 16  Price                                  14618 non-null  int64  \n",
            "dtypes: float64(4), int64(13)\n",
            "memory usage: 2.0 MB\n"
          ]
        }
      ]
    },
    {
      "cell_type": "code",
      "source": [
        "pd.crosstab(data['number of bathrooms'].head(5),data['Price'].head(5)).plot(kind=\"bar\")"
      ],
      "metadata": {
        "id": "V7PPFFR_o4w8",
        "colab": {
          "base_uri": "https://localhost:8080/",
          "height": 309
        },
        "outputId": "3801d7d5-4ec1-43d1-d24e-411ab4ed297e"
      },
      "execution_count": null,
      "outputs": [
        {
          "output_type": "execute_result",
          "data": {
            "text/plain": [
              "<Axes: xlabel='number of bathrooms'>"
            ]
          },
          "metadata": {},
          "execution_count": 441
        },
        {
          "output_type": "display_data",
          "data": {
            "text/plain": [
              "<Figure size 432x288 with 1 Axes>"
            ],
            "image/png": "[encoded data removed]"
          },
          "metadata": {
            "needs_background": "light"
          }
        }
      ]
    },
    {
      "cell_type": "code",
      "source": [
        "plt.scatter(data['Lattitude'],data['Longitude'])\n",
        "plt.show()"
      ],
      "metadata": {
        "colab": {
          "base_uri": "https://localhost:8080/",
          "height": 265
        },
        "id": "DSfx4f88Iy7d",
        "outputId": "9bec6baf-db0b-48e2-eefc-deea475aa187"
      },
      "execution_count": null,
      "outputs": [
        {
          "output_type": "display_data",
          "data": {
            "text/plain": [
              "<Figure size 432x288 with 1 Axes>"
            ],
            "image/png": "[encoded data removed]"
          },
          "metadata": {
            "needs_background": "light"
          }
        }
      ]
    },
    {
      "cell_type": "code",
      "source": [
        "import seaborn as sns\n",
        "sns.heatmap(data.corr(),annot=True)"
      ],
      "metadata": {
        "colab": {
          "base_uri": "https://localhost:8080/",
          "height": 474
        },
        "id": "u9nW-nKqI5L9",
        "outputId": "aef8d48f-f793-4cc7-9b9d-b113e4c8e56a"
      },
      "execution_count": null,
      "outputs": [
        {
          "output_type": "execute_result",
          "data": {
            "text/plain": [
              "<Axes: >"
            ]
          },
          "metadata": {},
          "execution_count": 443
        },
        {
          "output_type": "display_data",
          "data": {
            "text/plain": [
              "<Figure size 432x288 with 2 Axes>"
            ],
            "image/png": "[encoded data removed]"
          },
          "metadata": {
            "needs_background": "light"
          }
        }
      ]
    },
    {
      "cell_type": "code",
      "source": [
        "data['number of bathrooms']=data['number of bathrooms'].astype(int)\n",
        "data['number of floors']=data['number of floors'].astype(int)"
      ],
      "metadata": {
        "id": "0Z3nm5MusGV_"
      },
      "execution_count": null,
      "outputs": []
    },
    {
      "cell_type": "markdown",
      "source": [
        "# ***DATA SELECTION***"
      ],
      "metadata": {
        "id": "hnzCy-FFIkum"
      }
    },
    {
      "cell_type": "code",
      "source": [
        "from sklearn.model_selection import train_test_split"
      ],
      "metadata": {
        "id": "va3kRkvCpQAc"
      },
      "execution_count": null,
      "outputs": []
    },
    {
      "cell_type": "code",
      "source": [
        "X=data.drop(columns=['Price'],axis=1)"
      ],
      "metadata": {
        "id": "T7a3_dVkqNpw"
      },
      "execution_count": null,
      "outputs": []
    },
    {
      "cell_type": "code",
      "source": [
        "X.info()"
      ],
      "metadata": {
        "id": "gup_FCXMqaTc",
        "colab": {
          "base_uri": "https://localhost:8080/"
        },
        "outputId": "fea4757e-5bbb-474e-b2c2-de07e3d7c846"
      },
      "execution_count": null,
      "outputs": [
        {
          "output_type": "stream",
          "name": "stdout",
          "text": [
            "<class 'pandas.core.frame.DataFrame'>\n",
            "Int64Index: 14618 entries, 0 to 14619\n",
            "Data columns (total 16 columns):\n",
            " #   Column                                 Non-Null Count  Dtype  \n",
            "---  ------                                 --------------  -----  \n",
            " 0   number of bedrooms                     14618 non-null  int64  \n",
            " 1   number of bathrooms                    14618 non-null  float64\n",
            " 2   living area                            14618 non-null  int64  \n",
            " 3   lot area                               14618 non-null  int64  \n",
            " 4   number of floors                       14618 non-null  float64\n",
            " 5   waterfront present                     14618 non-null  int64  \n",
            " 6   number of views                        14618 non-null  int64  \n",
            " 7   condition of the house                 14618 non-null  int64  \n",
            " 8   grade of the house                     14618 non-null  int64  \n",
            " 9   Area of the house(excluding basement)  14618 non-null  int64  \n",
            " 10  Area of the basement                   14618 non-null  int64  \n",
            " 11  Built Year                             14618 non-null  int64  \n",
            " 12  Lattitude                              14618 non-null  float64\n",
            " 13  Longitude                              14618 non-null  float64\n",
            " 14  living_area_renov                      14618 non-null  int64  \n",
            " 15  lot_area_renov                         14618 non-null  int64  \n",
            "dtypes: float64(4), int64(12)\n",
            "memory usage: 1.9 MB\n"
          ]
        }
      ]
    },
    {
      "cell_type": "code",
      "source": [
        "y=data['Price']"
      ],
      "metadata": {
        "id": "bfoba4xGqboM"
      },
      "execution_count": null,
      "outputs": []
    },
    {
      "cell_type": "code",
      "source": [
        "X_train,X_test,y_train,y_test=train_test_split(X,y,test_size=0.20,random_state=1)"
      ],
      "metadata": {
        "id": "e4TIR3x-qhug"
      },
      "execution_count": null,
      "outputs": []
    },
    {
      "cell_type": "code",
      "source": [
        "X_train.info()\n",
        "pd.DataFrame(X_test).info()"
      ],
      "metadata": {
        "id": "tQSNq0lfqsPP",
        "colab": {
          "base_uri": "https://localhost:8080/"
        },
        "outputId": "3f72614e-971c-413c-d829-eaf860fb7036"
      },
      "execution_count": null,
      "outputs": [
        {
          "output_type": "stream",
          "name": "stdout",
          "text": [
            "<class 'pandas.core.frame.DataFrame'>\n",
            "Int64Index: 11694 entries, 5816 to 13351\n",
            "Data columns (total 16 columns):\n",
            " #   Column                                 Non-Null Count  Dtype  \n",
            "---  ------                                 --------------  -----  \n",
            " 0   number of bedrooms                     11694 non-null  int64  \n",
            " 1   number of bathrooms                    11694 non-null  float64\n",
            " 2   living area                            11694 non-null  int64  \n",
            " 3   lot area                               11694 non-null  int64  \n",
            " 4   number of floors                       11694 non-null  float64\n",
            " 5   waterfront present                     11694 non-null  int64  \n",
            " 6   number of views                        11694 non-null  int64  \n",
            " 7   condition of the house                 11694 non-null  int64  \n",
            " 8   grade of the house                     11694 non-null  int64  \n",
            " 9   Area of the house(excluding basement)  11694 non-null  int64  \n",
            " 10  Area of the basement                   11694 non-null  int64  \n",
            " 11  Built Year                             11694 non-null  int64  \n",
            " 12  Lattitude                              11694 non-null  float64\n",
            " 13  Longitude                              11694 non-null  float64\n",
            " 14  living_area_renov                      11694 non-null  int64  \n",
            " 15  lot_area_renov                         11694 non-null  int64  \n",
            "dtypes: float64(4), int64(12)\n",
            "memory usage: 1.5 MB\n",
            "<class 'pandas.core.frame.DataFrame'>\n",
            "Int64Index: 2924 entries, 12479 to 3991\n",
            "Data columns (total 16 columns):\n",
            " #   Column                                 Non-Null Count  Dtype  \n",
            "---  ------                                 --------------  -----  \n",
            " 0   number of bedrooms                     2924 non-null   int64  \n",
            " 1   number of bathrooms                    2924 non-null   float64\n",
            " 2   living area                            2924 non-null   int64  \n",
            " 3   lot area                               2924 non-null   int64  \n",
            " 4   number of floors                       2924 non-null   float64\n",
            " 5   waterfront present                     2924 non-null   int64  \n",
            " 6   number of views                        2924 non-null   int64  \n",
            " 7   condition of the house                 2924 non-null   int64  \n",
            " 8   grade of the house                     2924 non-null   int64  \n",
            " 9   Area of the house(excluding basement)  2924 non-null   int64  \n",
            " 10  Area of the basement                   2924 non-null   int64  \n",
            " 11  Built Year                             2924 non-null   int64  \n",
            " 12  Lattitude                              2924 non-null   float64\n",
            " 13  Longitude                              2924 non-null   float64\n",
            " 14  living_area_renov                      2924 non-null   int64  \n",
            " 15  lot_area_renov                         2924 non-null   int64  \n",
            "dtypes: float64(4), int64(12)\n",
            "memory usage: 388.3 KB\n"
          ]
        }
      ]
    },
    {
      "cell_type": "code",
      "source": [
        "pd.DataFrame(y_train).info()\n",
        "pd.DataFrame(y_test).info()"
      ],
      "metadata": {
        "id": "gHdmpzTeqxli",
        "colab": {
          "base_uri": "https://localhost:8080/"
        },
        "outputId": "3c593e8b-801e-452c-8a60-60351899058b"
      },
      "execution_count": null,
      "outputs": [
        {
          "output_type": "stream",
          "name": "stdout",
          "text": [
            "<class 'pandas.core.frame.DataFrame'>\n",
            "Int64Index: 11694 entries, 5816 to 13351\n",
            "Data columns (total 1 columns):\n",
            " #   Column  Non-Null Count  Dtype\n",
            "---  ------  --------------  -----\n",
            " 0   Price   11694 non-null  int64\n",
            "dtypes: int64(1)\n",
            "memory usage: 182.7 KB\n",
            "<class 'pandas.core.frame.DataFrame'>\n",
            "Int64Index: 2924 entries, 12479 to 3991\n",
            "Data columns (total 1 columns):\n",
            " #   Column  Non-Null Count  Dtype\n",
            "---  ------  --------------  -----\n",
            " 0   Price   2924 non-null   int64\n",
            "dtypes: int64(1)\n",
            "memory usage: 45.7 KB\n"
          ]
        }
      ]
    },
    {
      "cell_type": "markdown",
      "source": [
        "# **LINEAR REGRESSION IMPLEMENTATION**"
      ],
      "metadata": {
        "id": "YPa2wGutlJ-p"
      }
    },
    {
      "cell_type": "code",
      "source": [
        "from sklearn.linear_model import LinearRegression"
      ],
      "metadata": {
        "id": "ERpnzJXQuzrH"
      },
      "execution_count": null,
      "outputs": []
    },
    {
      "cell_type": "code",
      "source": [
        "model=LinearRegression()"
      ],
      "metadata": {
        "id": "6fciHfrhvFSt"
      },
      "execution_count": null,
      "outputs": []
    },
    {
      "cell_type": "code",
      "source": [
        "model.fit(X_train,y_train)"
      ],
      "metadata": {
        "id": "l17XLsEKvH3F",
        "colab": {
          "base_uri": "https://localhost:8080/",
          "height": 74
        },
        "outputId": "2013b0a8-a6d5-4f75-a862-af1a26cca65a"
      },
      "execution_count": null,
      "outputs": [
        {
          "output_type": "execute_result",
          "data": {
            "text/plain": [
              "LinearRegression()"
            ],
            "text/html": [
              "<style>#sk-container-id-13 {color: black;background-color: white;}#sk-container-id-13 pre{padding: 0;}#sk-container-id-13 div.sk-toggleable {background-color: white;}#sk-container-id-13 label.sk-toggleable__label {cursor: pointer;display: block;width: 100%;margin-bottom: 0;padding: 0.3em;box-sizing: border-box;text-align: center;}#sk-container-id-13 label.sk-toggleable__label-arrow:before {content: \"▸\";float: left;margin-right: 0.25em;color: #696969;}#sk-container-id-13 label.sk-toggleable__label-arrow:hover:before {color: black;}#sk-container-id-13 div.sk-estimator:hover label.sk-toggleable__label-arrow:before {color: black;}#sk-container-id-13 div.sk-toggleable__content {max-height: 0;max-width: 0;overflow: hidden;text-align: left;background-color: #f0f8ff;}#sk-container-id-13 div.sk-toggleable__content pre {margin: 0.2em;color: black;border-radius: 0.25em;background-color: #f0f8ff;}#sk-container-id-13 input.sk-toggleable__control:checked~div.sk-toggleable__content {max-height: 200px;max-width: 100%;overflow: auto;}#sk-container-id-13 input.sk-toggleable__control:checked~label.sk-toggleable__label-arrow:before {content: \"▾\";}#sk-container-id-13 div.sk-estimator input.sk-toggleable__control:checked~label.sk-toggleable__label {background-color: #d4ebff;}#sk-container-id-13 div.sk-label input.sk-toggleable__control:checked~label.sk-toggleable__label {background-color: #d4ebff;}#sk-container-id-13 input.sk-hidden--visually {border: 0;clip: rect(1px 1px 1px 1px);clip: rect(1px, 1px, 1px, 1px);height: 1px;margin: -1px;overflow: hidden;padding: 0;position: absolute;width: 1px;}#sk-container-id-13 div.sk-estimator {font-family: monospace;background-color: #f0f8ff;border: 1px dotted black;border-radius: 0.25em;box-sizing: border-box;margin-bottom: 0.5em;}#sk-container-id-13 div.sk-estimator:hover {background-color: #d4ebff;}#sk-container-id-13 div.sk-parallel-item::after {content: \"\";width: 100%;border-bottom: 1px solid gray;flex-grow: 1;}#sk-container-id-13 div.sk-label:hover label.sk-toggleable__label {background-color: #d4ebff;}#sk-container-id-13 div.sk-serial::before {content: \"\";position: absolute;border-left: 1px solid gray;box-sizing: border-box;top: 0;bottom: 0;left: 50%;z-index: 0;}#sk-container-id-13 div.sk-serial {display: flex;flex-direction: column;align-items: center;background-color: white;padding-right: 0.2em;padding-left: 0.2em;position: relative;}#sk-container-id-13 div.sk-item {position: relative;z-index: 1;}#sk-container-id-13 div.sk-parallel {display: flex;align-items: stretch;justify-content: center;background-color: white;position: relative;}#sk-container-id-13 div.sk-item::before, #sk-container-id-13 div.sk-parallel-item::before {content: \"\";position: absolute;border-left: 1px solid gray;box-sizing: border-box;top: 0;bottom: 0;left: 50%;z-index: -1;}#sk-container-id-13 div.sk-parallel-item {display: flex;flex-direction: column;z-index: 1;position: relative;background-color: white;}#sk-container-id-13 div.sk-parallel-item:first-child::after {align-self: flex-end;width: 50%;}#sk-container-id-13 div.sk-parallel-item:last-child::after {align-self: flex-start;width: 50%;}#sk-container-id-13 div.sk-parallel-item:only-child::after {width: 0;}#sk-container-id-13 div.sk-dashed-wrapped {border: 1px dashed gray;margin: 0 0.4em 0.5em 0.4em;box-sizing: border-box;padding-bottom: 0.4em;background-color: white;}#sk-container-id-13 div.sk-label label {font-family: monospace;font-weight: bold;display: inline-block;line-height: 1.2em;}#sk-container-id-13 div.sk-label-container {text-align: center;}#sk-container-id-13 div.sk-container {/* jupyter's `normalize.less` sets `[hidden] { display: none; }` but bootstrap.min.css set `[hidden] { display: none !important; }` so we also need the `!important` here to be able to override the default hidden behavior on the sphinx rendered scikit-learn.org. See: https://github.com/scikit-learn/scikit-learn/issues/21755 */display: inline-block !important;position: relative;}#sk-container-id-13 div.sk-text-repr-fallback {display: none;}</style><div id=\"sk-container-id-13\" class=\"sk-top-container\"><div class=\"sk-text-repr-fallback\"><pre>LinearRegression()</pre><b>In a Jupyter environment, please rerun this cell to show the HTML representation or trust the notebook. <br />On GitHub, the HTML representation is unable to render, please try loading this page with nbviewer.org.</b></div><div class=\"sk-container\" hidden><div class=\"sk-item\"><div class=\"sk-estimator sk-toggleable\"><input class=\"sk-toggleable__control sk-hidden--visually\" id=\"sk-estimator-id-13\" type=\"checkbox\" checked><label for=\"sk-estimator-id-13\" class=\"sk-toggleable__label sk-toggleable__label-arrow\">LinearRegression</label><div class=\"sk-toggleable__content\"><pre>LinearRegression()</pre></div></div></div></div></div>"
            ]
          },
          "metadata": {},
          "execution_count": 454
        }
      ]
    },
    {
      "cell_type": "code",
      "source": [
        "y_pred=model.predict(X_test)"
      ],
      "metadata": {
        "id": "CPm-LdocvMql"
      },
      "execution_count": null,
      "outputs": []
    },
    {
      "cell_type": "code",
      "source": [
        "print(model.score(X_test, y_test))"
      ],
      "metadata": {
        "id": "ayp68GRHvWMh",
        "colab": {
          "base_uri": "https://localhost:8080/"
        },
        "outputId": "01b3e86e-2c89-4a63-efd3-445fc3061e80"
      },
      "execution_count": null,
      "outputs": [
        {
          "output_type": "stream",
          "name": "stdout",
          "text": [
            "0.6915808533552887\n"
          ]
        }
      ]
    },
    {
      "cell_type": "markdown",
      "source": [
        "# **RANDOM FOREST IMPLEMENTATION**"
      ],
      "metadata": {
        "id": "KFAd_PeFJE9L"
      }
    },
    {
      "cell_type": "code",
      "source": [
        "# from sklearn.ensemble import RandomForestRegressor\n",
        "# RFR=RandomForestRegressor(n_estimators=100,random_state=0,oob_score=True)\n",
        "# RFR.fit(X_train,y_train)\n",
        "# y_pred=RFR.predict(X_test)\n",
        "# from sklearn.ensemble import RandomForestClassifier\n",
        "# RandomForest = RandomForestClassifier(oob_score=True)\n",
        "# RandomForest.fit(X_train,y_train)\n",
        "# print(RandomForest.oob_score_)\n",
        "# RFR.(x,y)\n",
        "# from sklearn.metrics import mean_absolute_error,accuracy_score"
      ],
      "metadata": {
        "id": "AJW4XyiA12t4"
      },
      "execution_count": null,
      "outputs": []
    },
    {
      "cell_type": "code",
      "source": [
        "# mean_absolute__error(y_test,y_pred)\n",
        "# accuracy_score(X_test,y_test)"
      ],
      "metadata": {
        "id": "pEOe76n92dqS"
      },
      "execution_count": null,
      "outputs": []
    },
    {
      "cell_type": "code",
      "source": [
        "# from sklearn.svm import SVC\n",
        "# kernals=['linear','rbf','poly','sigmmoid']\n",
        "# for i in kernals:\n",
        "#   model = SVC(kernel=i,C=1.0).fit(X, y)\n",
        "#   # model=SVC(Kernel=i,C=1.0)\n",
        "#   model.fit(X_train,y_train)\n",
        "#   print(\"Score for \",i,\" is :\",model.score(X_test,y_test))"
      ],
      "metadata": {
        "id": "424GnnCu3GAR"
      },
      "execution_count": null,
      "outputs": []
    },
    {
      "cell_type": "code",
      "source": [
        "# SVCmodel=SVC()"
      ],
      "metadata": {
        "id": "defwzXjIkrsP"
      },
      "execution_count": null,
      "outputs": []
    },
    {
      "cell_type": "code",
      "source": [
        "# SVCmodel.fit(X_train,y_train)"
      ],
      "metadata": {
        "id": "KYfGi-ezueHn"
      },
      "execution_count": null,
      "outputs": []
    },
    {
      "cell_type": "code",
      "source": [
        "data.info()"
      ],
      "metadata": {
        "colab": {
          "base_uri": "https://localhost:8080/"
        },
        "id": "HDtpvS-bniyR",
        "outputId": "2819b466-6426-479f-db4f-02533ed83237"
      },
      "execution_count": null,
      "outputs": [
        {
          "output_type": "stream",
          "name": "stdout",
          "text": [
            "<class 'pandas.core.frame.DataFrame'>\n",
            "Int64Index: 14618 entries, 0 to 14619\n",
            "Data columns (total 17 columns):\n",
            " #   Column                                 Non-Null Count  Dtype  \n",
            "---  ------                                 --------------  -----  \n",
            " 0   number of bedrooms                     14618 non-null  int64  \n",
            " 1   number of bathrooms                    14618 non-null  float64\n",
            " 2   living area                            14618 non-null  int64  \n",
            " 3   lot area                               14618 non-null  int64  \n",
            " 4   number of floors                       14618 non-null  float64\n",
            " 5   waterfront present                     14618 non-null  int64  \n",
            " 6   number of views                        14618 non-null  int64  \n",
            " 7   condition of the house                 14618 non-null  int64  \n",
            " 8   grade of the house                     14618 non-null  int64  \n",
            " 9   Area of the house(excluding basement)  14618 non-null  int64  \n",
            " 10  Area of the basement                   14618 non-null  int64  \n",
            " 11  Built Year                             14618 non-null  int64  \n",
            " 12  Lattitude                              14618 non-null  float64\n",
            " 13  Longitude                              14618 non-null  float64\n",
            " 14  living_area_renov                      14618 non-null  int64  \n",
            " 15  lot_area_renov                         14618 non-null  int64  \n",
            " 16  Price                                  14618 non-null  int64  \n",
            "dtypes: float64(4), int64(13)\n",
            "memory usage: 2.0 MB\n"
          ]
        }
      ]
    },
    {
      "cell_type": "code",
      "source": [
        "print(data[['Lattitude','Longitude']].head(20))"
      ],
      "metadata": {
        "colab": {
          "base_uri": "https://localhost:8080/"
        },
        "id": "TgglxJr8oXyo",
        "outputId": "2d248a73-9c57-4a33-d464-09044fb9b385"
      },
      "execution_count": null,
      "outputs": [
        {
          "output_type": "stream",
          "name": "stdout",
          "text": [
            "    Lattitude  Longitude\n",
            "0     52.8645   -114.557\n",
            "1     52.8878   -114.470\n",
            "2     52.8852   -114.468\n",
            "3     52.9532   -114.321\n",
            "4     52.9047   -114.485\n",
            "5     52.9133   -114.590\n",
            "6     52.7637   -114.050\n",
            "7     52.9254   -114.482\n",
            "8     52.8014   -114.598\n",
            "9     52.9145   -114.391\n",
            "10    52.8094   -114.215\n",
            "11    52.9115   -114.459\n",
            "12    52.9080   -114.459\n",
            "13    52.6934   -114.177\n",
            "14    52.8798   -114.511\n",
            "15    52.9838   -114.515\n",
            "16    52.7433   -114.300\n",
            "17    52.7574   -114.574\n",
            "18    52.9719   -114.395\n",
            "19    52.5556   -114.568\n"
          ]
        }
      ]
    },
    {
      "cell_type": "code",
      "source": [
        "data.drop(columns=['Lattitude','Longitude'],axis=1,inplace=True)"
      ],
      "metadata": {
        "id": "eQXtQW25ofbQ"
      },
      "execution_count": null,
      "outputs": []
    },
    {
      "cell_type": "code",
      "source": [
        "data['number of bathrooms']=data['number of bathrooms'].astype(int)\n",
        "data['number of floors']=data['number of floors'].astype(int)"
      ],
      "metadata": {
        "id": "ifNuI-i6oqei"
      },
      "execution_count": null,
      "outputs": []
    },
    {
      "cell_type": "code",
      "source": [
        "X=data.drop(columns=['Price'])\n",
        "y=data['Price']\n",
        "X_train,X_test,y_train,y_test=train_test_split(X,y,test_size=0.2,random_state=0)\n",
        "X_train.info()"
      ],
      "metadata": {
        "colab": {
          "base_uri": "https://localhost:8080/"
        },
        "id": "fges3mJZo5JN",
        "outputId": "58560a90-d63f-41ec-a13e-eb5390c19cc4"
      },
      "execution_count": null,
      "outputs": [
        {
          "output_type": "stream",
          "name": "stdout",
          "text": [
            "<class 'pandas.core.frame.DataFrame'>\n",
            "Int64Index: 11694 entries, 4576 to 2732\n",
            "Data columns (total 14 columns):\n",
            " #   Column                                 Non-Null Count  Dtype\n",
            "---  ------                                 --------------  -----\n",
            " 0   number of bedrooms                     11694 non-null  int64\n",
            " 1   number of bathrooms                    11694 non-null  int64\n",
            " 2   living area                            11694 non-null  int64\n",
            " 3   lot area                               11694 non-null  int64\n",
            " 4   number of floors                       11694 non-null  int64\n",
            " 5   waterfront present                     11694 non-null  int64\n",
            " 6   number of views                        11694 non-null  int64\n",
            " 7   condition of the house                 11694 non-null  int64\n",
            " 8   grade of the house                     11694 non-null  int64\n",
            " 9   Area of the house(excluding basement)  11694 non-null  int64\n",
            " 10  Area of the basement                   11694 non-null  int64\n",
            " 11  Built Year                             11694 non-null  int64\n",
            " 12  living_area_renov                      11694 non-null  int64\n",
            " 13  lot_area_renov                         11694 non-null  int64\n",
            "dtypes: int64(14)\n",
            "memory usage: 1.3 MB\n"
          ]
        }
      ]
    },
    {
      "cell_type": "code",
      "source": [
        "X_test.info()"
      ],
      "metadata": {
        "colab": {
          "base_uri": "https://localhost:8080/"
        },
        "id": "6XGw0Jh3pMZp",
        "outputId": "adcc8e5a-a974-4895-90b7-0fe24ca4ca93"
      },
      "execution_count": null,
      "outputs": [
        {
          "output_type": "stream",
          "name": "stdout",
          "text": [
            "<class 'pandas.core.frame.DataFrame'>\n",
            "Int64Index: 2924 entries, 3439 to 10326\n",
            "Data columns (total 14 columns):\n",
            " #   Column                                 Non-Null Count  Dtype\n",
            "---  ------                                 --------------  -----\n",
            " 0   number of bedrooms                     2924 non-null   int64\n",
            " 1   number of bathrooms                    2924 non-null   int64\n",
            " 2   living area                            2924 non-null   int64\n",
            " 3   lot area                               2924 non-null   int64\n",
            " 4   number of floors                       2924 non-null   int64\n",
            " 5   waterfront present                     2924 non-null   int64\n",
            " 6   number of views                        2924 non-null   int64\n",
            " 7   condition of the house                 2924 non-null   int64\n",
            " 8   grade of the house                     2924 non-null   int64\n",
            " 9   Area of the house(excluding basement)  2924 non-null   int64\n",
            " 10  Area of the basement                   2924 non-null   int64\n",
            " 11  Built Year                             2924 non-null   int64\n",
            " 12  living_area_renov                      2924 non-null   int64\n",
            " 13  lot_area_renov                         2924 non-null   int64\n",
            "dtypes: int64(14)\n",
            "memory usage: 342.7 KB\n"
          ]
        }
      ]
    },
    {
      "cell_type": "code",
      "source": [
        "model.fit(X_train,y_train)\n",
        "y_pred=model.predict(X_test)\n",
        "model.score(X_test,y_test)\n"
      ],
      "metadata": {
        "colab": {
          "base_uri": "https://localhost:8080/"
        },
        "id": "_VaK0uf_pN7d",
        "outputId": "b6754041-ec46-41d0-ff0e-6426232c5a0a"
      },
      "execution_count": null,
      "outputs": [
        {
          "output_type": "execute_result",
          "data": {
            "text/plain": [
              "0.6386606657522611"
            ]
          },
          "metadata": {},
          "execution_count": 468
        }
      ]
    },
    {
      "cell_type": "code",
      "source": [],
      "metadata": {
        "id": "vhEsnAcZpivC"
      },
      "execution_count": null,
      "outputs": []
    }
  ]
}